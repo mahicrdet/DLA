{
 "cells": [
  {
   "cell_type": "code",
   "execution_count": 1,
   "metadata": {},
   "outputs": [
    {
     "name": "stderr",
     "output_type": "stream",
     "text": [
      "/usr/lib/python3.5/importlib/_bootstrap.py:222: RuntimeWarning: numpy.dtype size changed, may indicate binary incompatibility. Expected 96, got 88\n",
      "  return f(*args, **kwds)\n",
      "/usr/lib/python3.5/importlib/_bootstrap.py:222: RuntimeWarning: numpy.dtype size changed, may indicate binary incompatibility. Expected 96, got 88\n",
      "  return f(*args, **kwds)\n",
      "/usr/lib/python3.5/importlib/_bootstrap.py:222: RuntimeWarning: numpy.dtype size changed, may indicate binary incompatibility. Expected 96, got 88\n",
      "  return f(*args, **kwds)\n",
      "/usr/lib/python3.5/importlib/_bootstrap.py:222: RuntimeWarning: numpy.dtype size changed, may indicate binary incompatibility. Expected 96, got 88\n",
      "  return f(*args, **kwds)\n"
     ]
    }
   ],
   "source": [
    "import numpy as np\n",
    "import random\n",
    "from PIL import Image\n",
    "import time\n",
    "from matplotlib.pyplot import imshow\n",
    "import matplotlib.pyplot as plt\n",
    "%matplotlib inline\n",
    "import glob\n",
    "import pandas as pd\n",
    "import re\n",
    "import seaborn as sns\n",
    "from sklearn import linear_model\n",
    "import warnings\n",
    "warnings.simplefilter(\"ignore\")"
   ]
  },
  {
   "cell_type": "code",
   "execution_count": 2,
   "metadata": {},
   "outputs": [],
   "source": [
    "# function to determine new location by random walk\n",
    "def walk_random(i, j, a_l, remove_step=None):\n",
    "    temp_walk_steps = [(0,1), (0,-1), (1,0), (-1,0)]\n",
    "    if i == 0:\n",
    "        temp_walk_steps.remove((-1,0))\n",
    "    if i == a_l-1:\n",
    "        temp_walk_steps.remove((1,0))\n",
    "    if j == 0:\n",
    "        temp_walk_steps.remove((0,-1))\n",
    "    if j == a_l-1:\n",
    "        temp_walk_steps.remove((0,1))\n",
    "    if remove_step in temp_walk_steps:\n",
    "        temp_walk_steps.remove(remove_step)\n",
    "    step = random.choice(temp_walk_steps)\n",
    "    i, j = i+step[0], j+step[1]\n",
    "    return i, j, step\n",
    "            \n",
    "# function to generate or simulate DLA\n",
    "# inputs:\n",
    "#       a_l  : image size ( array_length )\n",
    "#       N : Number of points\n",
    "#       k : stickiness \n",
    "def generate_dla(a_l, N, k):\n",
    "    s_m = np.zeros((a_l, a_l))\n",
    "    mid=(a_l-1)//2\n",
    "    s_m[mid][mid] = 1\n",
    "    random.seed()\n",
    "    for n in range(N-1):\n",
    "        #print(n)\n",
    "        r=random.randint(0, 4*a_l-1)\n",
    "        if r//a_l < 2:\n",
    "            i = (r//a_l)*(a_l-1)\n",
    "            j = r%a_l\n",
    "        else:\n",
    "            i = r%a_l\n",
    "            j = (r//a_l-2)*(a_l-1)\n",
    "        stop = 0\n",
    "        step = (0,0)\n",
    "        while stop==0:\n",
    "            if s_m[i][j] ==1:\n",
    "                if step == (0,0):\n",
    "                    i, j, step = walk_random(i, j, a_l, remove_step=step)\n",
    "                else:\n",
    "                    i, j = i-step[0], j-step[1]\n",
    "                    p=random.random()\n",
    "                    if p < k:\n",
    "                        s_m[i][j] = 1\n",
    "                        stop = 1\n",
    "                    else:\n",
    "                        i, j, step = walk_random(i, j, a_l, remove_step=step)\n",
    "            else:\n",
    "                i, j, step = walk_random(i, j, a_l, remove_step=None)\n",
    "                \n",
    "                    \n",
    "    image = Image.fromarray(s_m*255)\n",
    "    image = image.convert(\"L\")\n",
    "    filename='image_'+str(a_l)+'_'+str(N)+str('_')+str(k)+str('_.png')\n",
    "    image.save(filename)\n",
    "    imshow(s_m*255)"
   ]
  },
  {
   "cell_type": "code",
   "execution_count": 3,
   "metadata": {
    "scrolled": true
   },
   "outputs": [],
   "source": [
    "# Generate all the dla data\n",
    "\n",
    "#[1, 0.9, 0.8, 0.7, 0.6, 0.5, 0.4, 0.3, 0.2, 0.1]\n",
    "#for k in [1, 0.9, 0.8, 0.7, 0.6, 0.5, 0.4, 0.3, 0.2, 0.1]:\n",
    "#    print(\"new k: \"+str(k))\n",
    "#    generate_dla(501, 20000, k)"
   ]
  },
  {
   "cell_type": "markdown",
   "metadata": {},
   "source": [
    "# defineing a bounding box for each image minX, maxX, minY, maxY\n",
    "# bound density = area of bounding box / Number of points\n",
    "\n",
    "\n",
    "# Convolution density : kernal of size 3*3\n",
    "# Move the kernal \n",
    "# neighborhood density = Sum of all  neighborhood density when value = 1\n",
    "# surface area = area around the points"
   ]
  },
  {
   "cell_type": "code",
   "execution_count": 4,
   "metadata": {},
   "outputs": [],
   "source": [
    "#assumed no points on the edges for simplicity \n",
    "def dla_properties(s_m):\n",
    "    kernal_size = 3\n",
    "    N = np.count_nonzero(s_m)\n",
    "    array_length = s_m.shape[0]\n",
    "    bound_xmin = s_m.nonzero()[0].min()\n",
    "    bound_xmax = s_m.nonzero()[0].max()\n",
    "    bound_ymin = s_m.nonzero()[1].min()\n",
    "    bound_ymax = s_m.nonzero()[1].max()\n",
    "    bound_density = (bound_xmax+1-bound_xmin)*(bound_ymax+1-bound_ymin)/N\n",
    "    kernal = np.array([[0,1,0],[1,0,1], [0, 1, 0]])\n",
    "    neighborhood_density = 0\n",
    "    surface_area = 0\n",
    "    n_k = array_length-kernal_size +1\n",
    "    for j in range(n_k):\n",
    "        for i in range(n_k):\n",
    "            if s_m[i+1][j+1] ==1:\n",
    "                neighborhood_density += 9-s_m[i:i+kernal_size, j:j+kernal_size].sum()\n",
    "                surface_area += 4-np.multiply(s_m[i:i+kernal_size, j:j+kernal_size], kernal).sum()\n",
    "    \n",
    "    return array_length, N, bound_density, neighborhood_density, surface_area"
   ]
  },
  {
   "cell_type": "code",
   "execution_count": 5,
   "metadata": {},
   "outputs": [],
   "source": [
    "image_files = glob.glob(\"images/*.png\")\n",
    "dff = pd.DataFrame(columns=['Array_length', 'Points', 'bound_density', 'neighborhood_density', 'surface_area', 'stickiness'])\n",
    "i=0\n",
    "for f in image_files:\n",
    "    s_m = np.array(Image.open(f))/255\n",
    "    k = re.split('_', f)[-2]\n",
    "    #print(k)\n",
    "    prop =list(dla_properties(s_m))\n",
    "    prop.append(float(k))\n",
    "    #print(prop)\n",
    "    dff.loc[i]=prop\n",
    "    i += 1"
   ]
  },
  {
   "cell_type": "markdown",
   "metadata": {},
   "source": [
    "# Analysis for stickiness between [0.1, 1]"
   ]
  },
  {
   "cell_type": "code",
   "execution_count": 6,
   "metadata": {},
   "outputs": [
    {
     "name": "stdout",
     "output_type": "stream",
     "text": [
      "[25001.0, 15000.0, 10000.0, 20000.0]\n"
     ]
    },
    {
     "data": {
      "image/png": "[encoded data removed]",
      "text/plain": [
       "<Figure size 1152x288 with 4 Axes>"
      ]
     },
     "metadata": {},
     "output_type": "display_data"
    }
   ],
   "source": [
    "df=dff.loc[dff['stickiness']>0.05,:]\n",
    "N= df['Points'].nunique()\n",
    "plt.rcParams['figure.figsize'] = 16, 4\n",
    "points = list(df['Points'].unique())\n",
    "print(points)\n",
    "fig, axs = plt.subplots(1, N, sharey=False, squeeze=True)\n",
    "fig.suptitle(\"Points : Neighborhood density Vs Stickiness\")\n",
    "axs[0].set_ylabel(\"Neighorhood density\")\n",
    "for i,n in enumerate(points):\n",
    "    df1=df.loc[df[\"Points\"]==n,:]\n",
    "    ax1=axs[i].scatter(np.array(df1['stickiness']), np.array(df1['neighborhood_density']))\n",
    "    axs[i].set_title(\"Points : \"+str(n))\n",
    "    axs[i].set_xlabel('Stickiness ')\n",
    "plt.show()\n",
    "    "
   ]
  },
  {
   "cell_type": "code",
   "execution_count": 7,
   "metadata": {},
   "outputs": [
    {
     "name": "stdout",
     "output_type": "stream",
     "text": [
      "[25001.0, 15000.0, 10000.0, 20000.0]\n"
     ]
    },
    {
     "data": {
      "image/png": "[encoded data removed]",
      "text/plain": [
       "<Figure size 1152x288 with 4 Axes>"
      ]
     },
     "metadata": {},
     "output_type": "display_data"
    }
   ],
   "source": [
    "N= df['Points'].nunique()\n",
    "plt.rcParams['figure.figsize'] = 16, 4\n",
    "points = list(df['Points'].unique())\n",
    "print(points)\n",
    "fig, axs = plt.subplots(1, N, sharey=False, squeeze=True)\n",
    "fig.suptitle(\"Points : Surface area Vs Stickiness\")\n",
    "axs[0].set_ylabel(\"Surface area\")\n",
    "for i,n in enumerate(points):\n",
    "    df1=df.loc[df[\"Points\"]==n,:]\n",
    "    ax1=axs[i].scatter(np.array(df1['stickiness']), np.array(df1['surface_area']))\n",
    "    axs[i].set_title(\"Points : \"+str(n))\n",
    "    axs[i].set_xlabel('stickiness')\n",
    "plt.show()"
   ]
  },
  {
   "cell_type": "code",
   "execution_count": 8,
   "metadata": {},
   "outputs": [
    {
     "name": "stdout",
     "output_type": "stream",
     "text": [
      "[25001.0, 15000.0, 10000.0, 20000.0]\n"
     ]
    },
    {
     "data": {
      "image/png": "[encoded data removed]",
      "text/plain": [
       "<Figure size 1152x288 with 4 Axes>"
      ]
     },
     "metadata": {},
     "output_type": "display_data"
    }
   ],
   "source": [
    "N= df['Points'].nunique()\n",
    "plt.rcParams['figure.figsize'] = 16, 4\n",
    "points = list(df['Points'].unique())\n",
    "print(points)\n",
    "fig, axs = plt.subplots(1, N, sharey=False, squeeze=True)\n",
    "fig.suptitle(\"Points : bound density Vs Stickiness\")\n",
    "\n",
    "for i,n in enumerate(points):\n",
    "    df1=df.loc[df[\"Points\"]==n,:]\n",
    "    ax1=axs[i].scatter(np.array(df1['stickiness']), np.array(df1['bound_density']))\n",
    "    axs[i].set_title(\"Points : \"+str(n))\n",
    "    #axs.suptitle('Points : '+str(n))\n",
    "plt.show()"
   ]
  },
  {
   "cell_type": "code",
   "execution_count": 9,
   "metadata": {},
   "outputs": [
    {
     "data": {
      "image/png": "[encoded data removed]",
      "text/plain": [
       "<Figure size 1152x288 with 3 Axes>"
      ]
     },
     "metadata": {},
     "output_type": "display_data"
    }
   ],
   "source": [
    "plt.rcParams['figure.figsize'] = 16, 4\n",
    "k_values = [0.8, 0.5, 0.1]\n",
    "fig, axs = plt.subplots(1, 3, sharey=False, squeeze=True)\n",
    "fig.suptitle(\"Stickiness : Neighborhood density Vs Points\")\n",
    "axs[0].set_ylabel('Neighnorhood density')\n",
    "for i,k in enumerate(k_values):\n",
    "    df1=df.loc[df[\"stickiness\"]==k,:]\n",
    "    ax1=axs[i].scatter(np.array(df1['Points']), np.array(df1['neighborhood_density']))\n",
    "    axs[i].set_title(\"stickiness : \"+str(k))\n",
    "    axs[i].set_xlabel('Points')\n",
    "    #axs.suptitle('Points : '+str(n))\n",
    "plt.show()"
   ]
  },
  {
   "cell_type": "code",
   "execution_count": 10,
   "metadata": {},
   "outputs": [
    {
     "data": {
      "image/png": "[encoded data removed]",
      "text/plain": [
       "<Figure size 1152x288 with 3 Axes>"
      ]
     },
     "metadata": {},
     "output_type": "display_data"
    }
   ],
   "source": [
    "plt.rcParams['figure.figsize'] = 16, 4\n",
    "k_values = [0.8, 0.5, 0.1]\n",
    "fig, axs = plt.subplots(1, 3, sharey=False, squeeze=True)\n",
    "fig.suptitle(\"Stickiness : Surface area Vs Points\")\n",
    "axs[0].set_ylabel('surface area')\n",
    "for i,k in enumerate(k_values):\n",
    "    df1=df.loc[df[\"stickiness\"]==k,:]\n",
    "    ax1=axs[i].scatter(np.array(df1['Points']), np.array(df1['surface_area']))\n",
    "    axs[i].set_title(\"stickiness : \"+str(k))\n",
    "    axs[i].set_xlabel('Points')\n",
    "    #axs.suptitle('Points : '+str(n))\n",
    "plt.show()"
   ]
  },
  {
   "cell_type": "code",
   "execution_count": 11,
   "metadata": {},
   "outputs": [
    {
     "data": {
      "image/png": "[encoded data removed]",
      "text/plain": [
       "<Figure size 432x432 with 2 Axes>"
      ]
     },
     "metadata": {},
     "output_type": "display_data"
    }
   ],
   "source": [
    "df1=df.loc[df['stickiness']>=0.1,:]\n",
    "df1=df1.loc[df1['Points'].isin([10000,15000, 20000, 25001]),:]\n",
    "df1=df1.pivot(\"stickiness\", \"Points\", \"neighborhood_density\")\n",
    "plt.rcParams['figure.figsize'] = 6, 6\n",
    "ax=sns.heatmap(df1)"
   ]
  },
  {
   "cell_type": "code",
   "execution_count": 12,
   "metadata": {},
   "outputs": [
    {
     "data": {
      "image/png": "[encoded data removed]",
      "text/plain": [
       "<Figure size 432x432 with 2 Axes>"
      ]
     },
     "metadata": {},
     "output_type": "display_data"
    }
   ],
   "source": [
    "df1=df.loc[df['stickiness']>=0.1,:]\n",
    "df1=df1.loc[df1['Points'].isin([10000,15000, 20000, 25001]),:]\n",
    "df1=df1.pivot(\"stickiness\", \"Points\", \"surface_area\")\n",
    "plt.rcParams['figure.figsize'] = 6, 6\n",
    "ax=sns.heatmap(df1)"
   ]
  },
  {
   "cell_type": "code",
   "execution_count": 13,
   "metadata": {},
   "outputs": [],
   "source": [
    "# for given stickiness, surface area is linearly related to Number of points\n",
    "# trying to find relation between surface area / Num of points\n",
    "df['S/N']=df['surface_area']/df['Points']\n",
    "df['ND/N']=df['neighborhood_density']/df['Points']"
   ]
  },
  {
   "cell_type": "code",
   "execution_count": 14,
   "metadata": {},
   "outputs": [
    {
     "data": {
      "text/html": [
       "<div>\n",
       "<style scoped>\n",
       "    .dataframe tbody tr th:only-of-type {\n",
       "        vertical-align: middle;\n",
       "    }\n",
       "\n",
       "    .dataframe tbody tr th {\n",
       "        vertical-align: top;\n",
       "    }\n",
       "\n",
       "    .dataframe thead th {\n",
       "        text-align: right;\n",
       "    }\n",
       "</style>\n",
       "<table border=\"1\" class=\"dataframe\">\n",
       "  <thead>\n",
       "    <tr style=\"text-align: right;\">\n",
       "      <th></th>\n",
       "      <th>Array_length</th>\n",
       "      <th>Points</th>\n",
       "      <th>bound_density</th>\n",
       "      <th>neighborhood_density</th>\n",
       "      <th>surface_area</th>\n",
       "      <th>stickiness</th>\n",
       "      <th>S/N</th>\n",
       "      <th>ND/N</th>\n",
       "    </tr>\n",
       "  </thead>\n",
       "  <tbody>\n",
       "    <tr>\n",
       "      <th>14</th>\n",
       "      <td>501.0</td>\n",
       "      <td>15000.0</td>\n",
       "      <td>6.422533</td>\n",
       "      <td>43724.0</td>\n",
       "      <td>19060.0</td>\n",
       "      <td>0.8</td>\n",
       "      <td>1.270667</td>\n",
       "      <td>2.914933</td>\n",
       "    </tr>\n",
       "    <tr>\n",
       "      <th>25</th>\n",
       "      <td>501.0</td>\n",
       "      <td>10000.0</td>\n",
       "      <td>6.384000</td>\n",
       "      <td>29850.0</td>\n",
       "      <td>12944.0</td>\n",
       "      <td>0.8</td>\n",
       "      <td>1.294400</td>\n",
       "      <td>2.985000</td>\n",
       "    </tr>\n",
       "    <tr>\n",
       "      <th>32</th>\n",
       "      <td>501.0</td>\n",
       "      <td>20000.0</td>\n",
       "      <td>7.315300</td>\n",
       "      <td>58590.0</td>\n",
       "      <td>25512.0</td>\n",
       "      <td>0.8</td>\n",
       "      <td>1.275600</td>\n",
       "      <td>2.929500</td>\n",
       "    </tr>\n",
       "    <tr>\n",
       "      <th>38</th>\n",
       "      <td>501.0</td>\n",
       "      <td>25001.0</td>\n",
       "      <td>7.545058</td>\n",
       "      <td>73890.0</td>\n",
       "      <td>32180.0</td>\n",
       "      <td>0.8</td>\n",
       "      <td>1.287149</td>\n",
       "      <td>2.955482</td>\n",
       "    </tr>\n",
       "  </tbody>\n",
       "</table>\n",
       "</div>"
      ],
      "text/plain": [
       "    Array_length   Points  bound_density  neighborhood_density  surface_area  \\\n",
       "14         501.0  15000.0       6.422533               43724.0       19060.0   \n",
       "25         501.0  10000.0       6.384000               29850.0       12944.0   \n",
       "32         501.0  20000.0       7.315300               58590.0       25512.0   \n",
       "38         501.0  25001.0       7.545058               73890.0       32180.0   \n",
       "\n",
       "    stickiness       S/N      ND/N  \n",
       "14         0.8  1.270667  2.914933  \n",
       "25         0.8  1.294400  2.985000  \n",
       "32         0.8  1.275600  2.929500  \n",
       "38         0.8  1.287149  2.955482  "
      ]
     },
     "execution_count": 14,
     "metadata": {},
     "output_type": "execute_result"
    }
   ],
   "source": [
    "df.loc[df['stickiness']==0.8]"
   ]
  },
  {
   "cell_type": "code",
   "execution_count": 15,
   "metadata": {},
   "outputs": [
    {
     "data": {
      "text/plain": [
       "<matplotlib.collections.PathCollection at 0x7fc9cb468d68>"
      ]
     },
     "execution_count": 15,
     "metadata": {},
     "output_type": "execute_result"
    },
    {
     "data": {
      "image/png": "[encoded data removed]",
      "text/plain": [
       "<Figure size 432x432 with 1 Axes>"
      ]
     },
     "metadata": {},
     "output_type": "display_data"
    }
   ],
   "source": [
    "plt.scatter(df['stickiness'], df['S/N'])"
   ]
  },
  {
   "cell_type": "code",
   "execution_count": 16,
   "metadata": {},
   "outputs": [
    {
     "data": {
      "text/plain": [
       "<matplotlib.collections.PathCollection at 0x7fc9cb4b0a20>"
      ]
     },
     "execution_count": 16,
     "metadata": {},
     "output_type": "execute_result"
    },
    {
     "data": {
      "image/png": "[encoded data removed]",
      "text/plain": [
       "<Figure size 432x432 with 1 Axes>"
      ]
     },
     "metadata": {},
     "output_type": "display_data"
    }
   ],
   "source": [
    "plt.scatter(df['stickiness'], df['ND/N'])"
   ]
  },
  {
   "cell_type": "code",
   "execution_count": 17,
   "metadata": {},
   "outputs": [
    {
     "name": "stdout",
     "output_type": "stream",
     "text": [
      "Mean Absolute % Error for Polynomial Fit of Surface area : \n",
      "0.017255818346533842\n"
     ]
    }
   ],
   "source": [
    "# As per stickness vs S/N plot show k is polynomial fit to surface area for given number of points\n",
    "x=np.array(df['S/N'])\n",
    "y=np.array(df['stickiness'])\n",
    "pred_obj_sa = np.poly1d(np.polyfit(x, y, 3))\n",
    "s=list(map(lambda i: pred_obj_sa(i), list(x)))\n",
    "\n",
    "# validation on same data set\n",
    "print(\"Mean Absolute % Error for Polynomial Fit of Surface area : \")\n",
    "print(np.absolute(np.divide(y-np.array(s), y)).sum()/len(s))"
   ]
  },
  {
   "cell_type": "code",
   "execution_count": 18,
   "metadata": {},
   "outputs": [
    {
     "name": "stdout",
     "output_type": "stream",
     "text": [
      "Mean Absolute % Error for Polynomial Fit of Neighborhood density : \n",
      "0.018164724584711724\n"
     ]
    }
   ],
   "source": [
    "# As per stickness vs ND/N plot show k is polynomial fit to surface area for given number of points\n",
    "x=np.array(df['ND/N'])\n",
    "y=np.array(df['stickiness'])\n",
    "pred_obj_nd = np.poly1d(np.polyfit(x, y, 3))\n",
    "s=list(map(lambda i: pred_obj_nd(i), list(x)))\n",
    "\n",
    "# validation on same data set\n",
    "print(\"Mean Absolute % Error for Polynomial Fit of Neighborhood density : \")\n",
    "print(np.absolute(np.divide(y-np.array(s), y)).sum()/len(s))"
   ]
  },
  {
   "cell_type": "code",
   "execution_count": 19,
   "metadata": {},
   "outputs": [],
   "source": [
    "image_files = glob.glob(\"test_images/*.png\")\n",
    "dff_test = pd.DataFrame(columns=['Array_length', 'Points', 'bound_density', 'neighborhood_density', 'surface_area', 'stickiness'])\n",
    "i=0\n",
    "for f in image_files:\n",
    "    s_m = np.array(Image.open(f))/255\n",
    "    k = re.split('_', f)[-2]\n",
    "    #print(k)\n",
    "    prop =list(dla_properties(s_m))\n",
    "    prop.append(float(k))\n",
    "    #print(prop)\n",
    "    dff_test.loc[i]=prop\n",
    "    i += 1"
   ]
  },
  {
   "cell_type": "code",
   "execution_count": 20,
   "metadata": {},
   "outputs": [
    {
     "name": "stdout",
     "output_type": "stream",
     "text": [
      "Mean Absolute % Error for Polynomial Fit using Surface Area: \n",
      "0.026007468940849036\n",
      "Mean Absolute % Error for Polynomial Fit using neighborhood density : \n",
      "0.0255865415067242\n"
     ]
    }
   ],
   "source": [
    "df_test = dff_test.loc[dff_test['stickiness']>0.05,:]\n",
    "df_test['S/N']=df_test['surface_area']/df_test['Points']\n",
    "df_test['ND/N']=df_test['neighborhood_density']/df_test['Points']\n",
    "x_test_sa=np.array(df_test['S/N'])\n",
    "x_test_nd=np.array(df_test['ND/N'])\n",
    "y=np.array(df_test['stickiness'])\n",
    "k_sa = list(map(lambda i: pred_obj_sa(i), list(x_test_sa)))\n",
    "k_nd = list(map(lambda i: pred_obj_nd(i), list(x_test_nd)))\n",
    "print(\"Mean Absolute % Error for Polynomial Fit using Surface Area: \")\n",
    "print(np.absolute(np.divide(y-np.array(k_sa), y)).sum()/len(df_test))\n",
    "print(\"Mean Absolute % Error for Polynomial Fit using neighborhood density : \")\n",
    "print(np.absolute(np.divide(y-np.array(k_nd), y)).sum()/len(df_test))"
   ]
  },
  {
   "cell_type": "markdown",
   "metadata": {},
   "source": [
    "# Analysis for stickiness between [0.001, 0.05]"
   ]
  },
  {
   "cell_type": "code",
   "execution_count": 21,
   "metadata": {},
   "outputs": [],
   "source": [
    "dff1=dff.loc[dff['stickiness']<0.1,:]\n",
    "dff1['S/N']=dff1['surface_area']/dff1['Points']\n",
    "dff1['ND/N']=dff1['neighborhood_density']/dff1['Points']\n",
    "dff1['ratio']=dff1['S/N']/(dff1['S/N']+dff1['bound_density'])"
   ]
  },
  {
   "cell_type": "code",
   "execution_count": 22,
   "metadata": {},
   "outputs": [
    {
     "data": {
      "image/png": "[encoded data removed]",
      "text/plain": [
       "<Figure size 720x360 with 2 Axes>"
      ]
     },
     "metadata": {},
     "output_type": "display_data"
    }
   ],
   "source": [
    "plt.rcParams['figure.figsize'] = 10, 5\n",
    "points = [10000, 15000]\n",
    "fig, axs = plt.subplots(1, 2, sharey=False, squeeze=True)\n",
    "fig.suptitle(\"Points : Surface area Vs Stickiness\")\n",
    "axs[0].set_ylabel(\"Surface area\")\n",
    "for i,n in enumerate(points):\n",
    "    df1=dff1.loc[dff1[\"Points\"]==n,:]\n",
    "    ax1=axs[i].scatter(np.array(df1['stickiness']), np.array(df1['surface_area']))\n",
    "    axs[i].set_title(\"Points : \"+str(n))\n",
    "    axs[i].set_xlabel('stickiness')\n",
    "plt.show()"
   ]
  },
  {
   "cell_type": "code",
   "execution_count": 23,
   "metadata": {},
   "outputs": [
    {
     "data": {
      "image/png": "[encoded data removed]",
      "text/plain": [
       "<Figure size 720x360 with 2 Axes>"
      ]
     },
     "metadata": {},
     "output_type": "display_data"
    }
   ],
   "source": [
    "plt.rcParams['figure.figsize'] = 10, 5\n",
    "points = [10000, 15000]\n",
    "fig, axs = plt.subplots(1, 2, sharey=False, squeeze=True)\n",
    "fig.suptitle(\"Points : neighborhood density  Vs Stickiness\")\n",
    "axs[0].set_ylabel(\"neighborhood_density\")\n",
    "for i,n in enumerate(points):\n",
    "    df1=dff1.loc[dff1[\"Points\"]==n,:]\n",
    "    ax1=axs[i].scatter(np.array(df1['stickiness']), np.array(df1['neighborhood_density']))\n",
    "    axs[i].set_title(\"Points : \"+str(n))\n",
    "    axs[i].set_xlabel('stickiness')\n",
    "plt.show()"
   ]
  },
  {
   "cell_type": "code",
   "execution_count": 24,
   "metadata": {},
   "outputs": [
    {
     "data": {
      "image/png": "[encoded data removed]",
      "text/plain": [
       "<Figure size 720x360 with 2 Axes>"
      ]
     },
     "metadata": {},
     "output_type": "display_data"
    }
   ],
   "source": [
    "plt.rcParams['figure.figsize'] = 10, 5\n",
    "points = [10000, 15000]\n",
    "fig, axs = plt.subplots(1, 2, sharey=False, squeeze=True)\n",
    "fig.suptitle(\"Points : bound density  Vs Stickiness\")\n",
    "axs[0].set_ylabel(\"bound_density\")\n",
    "for i,n in enumerate(points):\n",
    "    df1=dff1.loc[dff1[\"Points\"]==n,:]\n",
    "    ax1=axs[i].scatter(np.array(df1['stickiness']), np.array(df1['bound_density']))\n",
    "    axs[i].set_title(\"Points : \"+str(n))\n",
    "    axs[i].set_xlabel('stickiness')\n",
    "plt.show()"
   ]
  },
  {
   "cell_type": "code",
   "execution_count": 25,
   "metadata": {},
   "outputs": [
    {
     "data": {
      "image/png": "[encoded data removed]",
      "text/plain": [
       "<Figure size 1152x288 with 3 Axes>"
      ]
     },
     "metadata": {},
     "output_type": "display_data"
    }
   ],
   "source": [
    "plt.rcParams['figure.figsize'] = 16, 4\n",
    "k_values = [0.05, 0.01, 0.005]\n",
    "fig, axs = plt.subplots(1, 3, sharey=False, squeeze=True)\n",
    "fig.suptitle(\"Stickiness : Surface area Vs Points\")\n",
    "axs[0].set_ylabel('surface area')\n",
    "for i,k in enumerate(k_values):\n",
    "    df1=dff1.loc[dff1[\"stickiness\"]==k,:]\n",
    "    ax1=axs[i].scatter(np.array(df1['Points']), np.array(df1['surface_area']))\n",
    "    axs[i].set_title(\"stickiness : \"+str(k))\n",
    "    axs[i].set_xlabel('Points')\n",
    "    #axs.suptitle('Points : '+str(n))\n",
    "plt.show()"
   ]
  },
  {
   "cell_type": "code",
   "execution_count": 26,
   "metadata": {},
   "outputs": [
    {
     "data": {
      "image/png": "[encoded data removed]",
      "text/plain": [
       "<Figure size 432x432 with 2 Axes>"
      ]
     },
     "metadata": {},
     "output_type": "display_data"
    }
   ],
   "source": [
    "df1=dff1.loc[dff1['Points'].isin([10000,15000]),:]\n",
    "df1=df1.pivot(\"stickiness\", \"Points\", \"surface_area\")\n",
    "plt.rcParams['figure.figsize'] = 6, 6\n",
    "ax=sns.heatmap(df1)"
   ]
  },
  {
   "cell_type": "code",
   "execution_count": 27,
   "metadata": {},
   "outputs": [
    {
     "data": {
      "text/plain": [
       "<matplotlib.collections.PathCollection at 0x7fc9cb55ce80>"
      ]
     },
     "execution_count": 27,
     "metadata": {},
     "output_type": "execute_result"
    },
    {
     "data": {
      "image/png": "[encoded data removed]",
      "text/plain": [
       "<Figure size 432x432 with 1 Axes>"
      ]
     },
     "metadata": {},
     "output_type": "display_data"
    }
   ],
   "source": [
    "plt.scatter(dff1['stickiness'], dff1['surface_area'])"
   ]
  },
  {
   "cell_type": "code",
   "execution_count": 28,
   "metadata": {},
   "outputs": [
    {
     "data": {
      "text/plain": [
       "<matplotlib.collections.PathCollection at 0x7fc9cd670208>"
      ]
     },
     "execution_count": 28,
     "metadata": {},
     "output_type": "execute_result"
    },
    {
     "data": {
      "image/png": "[encoded data removed]",
      "text/plain": [
       "<Figure size 432x432 with 1 Axes>"
      ]
     },
     "metadata": {},
     "output_type": "display_data"
    }
   ],
   "source": [
    "plt.scatter(dff1['stickiness'], dff1['ND/N'])"
   ]
  },
  {
   "cell_type": "code",
   "execution_count": 29,
   "metadata": {},
   "outputs": [
    {
     "name": "stdout",
     "output_type": "stream",
     "text": [
      "Mean Absolute % Error for Polynomial Fit : \n",
      "0.22217092185833648\n"
     ]
    }
   ],
   "source": [
    "# As per stickness vs S/N plot show k is polynomial fit to surface area for given number of points\n",
    "x=np.array(dff1['S/N'])\n",
    "y=np.array(dff1['stickiness'])\n",
    "pred1_obj_sa = np.poly1d(np.polyfit(x, y, 3))\n",
    "s=list(map(lambda i: pred1_obj_sa(i), list(x)))\n",
    "\n",
    "# validation on same data set\n",
    "print(\"Mean Absolute % Error for Polynomial Fit : \")\n",
    "print(np.absolute(np.divide(y-np.array(s), y)).sum()/len(s))"
   ]
  },
  {
   "cell_type": "code",
   "execution_count": 30,
   "metadata": {},
   "outputs": [
    {
     "data": {
      "text/html": [
       "<div>\n",
       "<style scoped>\n",
       "    .dataframe tbody tr th:only-of-type {\n",
       "        vertical-align: middle;\n",
       "    }\n",
       "\n",
       "    .dataframe tbody tr th {\n",
       "        vertical-align: top;\n",
       "    }\n",
       "\n",
       "    .dataframe thead th {\n",
       "        text-align: right;\n",
       "    }\n",
       "</style>\n",
       "<table border=\"1\" class=\"dataframe\">\n",
       "  <thead>\n",
       "    <tr style=\"text-align: right;\">\n",
       "      <th></th>\n",
       "      <th>Array_length</th>\n",
       "      <th>Points</th>\n",
       "      <th>bound_density</th>\n",
       "      <th>neighborhood_density</th>\n",
       "      <th>surface_area</th>\n",
       "      <th>stickiness</th>\n",
       "      <th>S/N</th>\n",
       "      <th>ND/N</th>\n",
       "      <th>ratio</th>\n",
       "    </tr>\n",
       "  </thead>\n",
       "  <tbody>\n",
       "    <tr>\n",
       "      <th>18</th>\n",
       "      <td>501.0</td>\n",
       "      <td>10000.0</td>\n",
       "      <td>1.600200</td>\n",
       "      <td>9198.0</td>\n",
       "      <td>4320.0</td>\n",
       "      <td>0.0030</td>\n",
       "      <td>0.432000</td>\n",
       "      <td>0.919800</td>\n",
       "      <td>0.212578</td>\n",
       "    </tr>\n",
       "    <tr>\n",
       "      <th>58</th>\n",
       "      <td>501.0</td>\n",
       "      <td>10000.0</td>\n",
       "      <td>1.575000</td>\n",
       "      <td>9290.0</td>\n",
       "      <td>4366.0</td>\n",
       "      <td>0.0050</td>\n",
       "      <td>0.436600</td>\n",
       "      <td>0.929000</td>\n",
       "      <td>0.217041</td>\n",
       "    </tr>\n",
       "    <tr>\n",
       "      <th>34</th>\n",
       "      <td>501.0</td>\n",
       "      <td>15000.0</td>\n",
       "      <td>1.643200</td>\n",
       "      <td>13896.0</td>\n",
       "      <td>6528.0</td>\n",
       "      <td>0.0050</td>\n",
       "      <td>0.435200</td>\n",
       "      <td>0.926400</td>\n",
       "      <td>0.209392</td>\n",
       "    </tr>\n",
       "    <tr>\n",
       "      <th>57</th>\n",
       "      <td>501.0</td>\n",
       "      <td>10000.0</td>\n",
       "      <td>1.512500</td>\n",
       "      <td>9004.0</td>\n",
       "      <td>4238.0</td>\n",
       "      <td>0.0060</td>\n",
       "      <td>0.423800</td>\n",
       "      <td>0.900400</td>\n",
       "      <td>0.218871</td>\n",
       "    </tr>\n",
       "    <tr>\n",
       "      <th>17</th>\n",
       "      <td>501.0</td>\n",
       "      <td>15000.0</td>\n",
       "      <td>1.706400</td>\n",
       "      <td>13506.0</td>\n",
       "      <td>6374.0</td>\n",
       "      <td>0.0060</td>\n",
       "      <td>0.424933</td>\n",
       "      <td>0.900400</td>\n",
       "      <td>0.199374</td>\n",
       "    </tr>\n",
       "    <tr>\n",
       "      <th>21</th>\n",
       "      <td>501.0</td>\n",
       "      <td>10000.0</td>\n",
       "      <td>1.532700</td>\n",
       "      <td>9442.0</td>\n",
       "      <td>4436.0</td>\n",
       "      <td>0.0070</td>\n",
       "      <td>0.443600</td>\n",
       "      <td>0.944200</td>\n",
       "      <td>0.224460</td>\n",
       "    </tr>\n",
       "    <tr>\n",
       "      <th>66</th>\n",
       "      <td>501.0</td>\n",
       "      <td>15000.0</td>\n",
       "      <td>1.650933</td>\n",
       "      <td>13854.0</td>\n",
       "      <td>6494.0</td>\n",
       "      <td>0.0070</td>\n",
       "      <td>0.432933</td>\n",
       "      <td>0.923600</td>\n",
       "      <td>0.207755</td>\n",
       "    </tr>\n",
       "    <tr>\n",
       "      <th>64</th>\n",
       "      <td>501.0</td>\n",
       "      <td>10000.0</td>\n",
       "      <td>1.727200</td>\n",
       "      <td>8982.0</td>\n",
       "      <td>4202.0</td>\n",
       "      <td>0.0074</td>\n",
       "      <td>0.420200</td>\n",
       "      <td>0.898200</td>\n",
       "      <td>0.195678</td>\n",
       "    </tr>\n",
       "    <tr>\n",
       "      <th>23</th>\n",
       "      <td>501.0</td>\n",
       "      <td>10000.0</td>\n",
       "      <td>1.689100</td>\n",
       "      <td>9260.0</td>\n",
       "      <td>4356.0</td>\n",
       "      <td>0.0080</td>\n",
       "      <td>0.435600</td>\n",
       "      <td>0.926000</td>\n",
       "      <td>0.205017</td>\n",
       "    </tr>\n",
       "    <tr>\n",
       "      <th>36</th>\n",
       "      <td>501.0</td>\n",
       "      <td>15000.0</td>\n",
       "      <td>1.632800</td>\n",
       "      <td>13686.0</td>\n",
       "      <td>6458.0</td>\n",
       "      <td>0.0080</td>\n",
       "      <td>0.430533</td>\n",
       "      <td>0.912400</td>\n",
       "      <td>0.208659</td>\n",
       "    </tr>\n",
       "    <tr>\n",
       "      <th>13</th>\n",
       "      <td>501.0</td>\n",
       "      <td>15000.0</td>\n",
       "      <td>1.704267</td>\n",
       "      <td>13752.0</td>\n",
       "      <td>6498.0</td>\n",
       "      <td>0.0090</td>\n",
       "      <td>0.433200</td>\n",
       "      <td>0.916800</td>\n",
       "      <td>0.202670</td>\n",
       "    </tr>\n",
       "    <tr>\n",
       "      <th>45</th>\n",
       "      <td>501.0</td>\n",
       "      <td>10000.0</td>\n",
       "      <td>1.676400</td>\n",
       "      <td>9154.0</td>\n",
       "      <td>4306.0</td>\n",
       "      <td>0.0090</td>\n",
       "      <td>0.430600</td>\n",
       "      <td>0.915400</td>\n",
       "      <td>0.204366</td>\n",
       "    </tr>\n",
       "    <tr>\n",
       "      <th>0</th>\n",
       "      <td>501.0</td>\n",
       "      <td>20000.0</td>\n",
       "      <td>1.619950</td>\n",
       "      <td>19038.0</td>\n",
       "      <td>8964.0</td>\n",
       "      <td>0.0100</td>\n",
       "      <td>0.448200</td>\n",
       "      <td>0.951900</td>\n",
       "      <td>0.216715</td>\n",
       "    </tr>\n",
       "    <tr>\n",
       "      <th>53</th>\n",
       "      <td>501.0</td>\n",
       "      <td>25001.0</td>\n",
       "      <td>1.656334</td>\n",
       "      <td>23308.0</td>\n",
       "      <td>10978.0</td>\n",
       "      <td>0.0100</td>\n",
       "      <td>0.439102</td>\n",
       "      <td>0.932283</td>\n",
       "      <td>0.209552</td>\n",
       "    </tr>\n",
       "    <tr>\n",
       "      <th>39</th>\n",
       "      <td>501.0</td>\n",
       "      <td>10000.0</td>\n",
       "      <td>1.651200</td>\n",
       "      <td>9630.0</td>\n",
       "      <td>4492.0</td>\n",
       "      <td>0.0100</td>\n",
       "      <td>0.449200</td>\n",
       "      <td>0.963000</td>\n",
       "      <td>0.213864</td>\n",
       "    </tr>\n",
       "    <tr>\n",
       "      <th>67</th>\n",
       "      <td>501.0</td>\n",
       "      <td>15000.0</td>\n",
       "      <td>1.722667</td>\n",
       "      <td>14050.0</td>\n",
       "      <td>6588.0</td>\n",
       "      <td>0.0100</td>\n",
       "      <td>0.439200</td>\n",
       "      <td>0.936667</td>\n",
       "      <td>0.203158</td>\n",
       "    </tr>\n",
       "    <tr>\n",
       "      <th>40</th>\n",
       "      <td>501.0</td>\n",
       "      <td>15000.0</td>\n",
       "      <td>1.664000</td>\n",
       "      <td>14576.0</td>\n",
       "      <td>6846.0</td>\n",
       "      <td>0.0200</td>\n",
       "      <td>0.456400</td>\n",
       "      <td>0.971733</td>\n",
       "      <td>0.215242</td>\n",
       "    </tr>\n",
       "    <tr>\n",
       "      <th>10</th>\n",
       "      <td>501.0</td>\n",
       "      <td>25001.0</td>\n",
       "      <td>1.646814</td>\n",
       "      <td>24324.0</td>\n",
       "      <td>11414.0</td>\n",
       "      <td>0.0200</td>\n",
       "      <td>0.456542</td>\n",
       "      <td>0.972921</td>\n",
       "      <td>0.217054</td>\n",
       "    </tr>\n",
       "    <tr>\n",
       "      <th>30</th>\n",
       "      <td>501.0</td>\n",
       "      <td>10000.0</td>\n",
       "      <td>1.675800</td>\n",
       "      <td>10142.0</td>\n",
       "      <td>4716.0</td>\n",
       "      <td>0.0200</td>\n",
       "      <td>0.471600</td>\n",
       "      <td>1.014200</td>\n",
       "      <td>0.219614</td>\n",
       "    </tr>\n",
       "    <tr>\n",
       "      <th>9</th>\n",
       "      <td>501.0</td>\n",
       "      <td>10000.0</td>\n",
       "      <td>1.818900</td>\n",
       "      <td>10968.0</td>\n",
       "      <td>5102.0</td>\n",
       "      <td>0.0300</td>\n",
       "      <td>0.510200</td>\n",
       "      <td>1.096800</td>\n",
       "      <td>0.219055</td>\n",
       "    </tr>\n",
       "    <tr>\n",
       "      <th>61</th>\n",
       "      <td>501.0</td>\n",
       "      <td>15000.0</td>\n",
       "      <td>1.630800</td>\n",
       "      <td>15888.0</td>\n",
       "      <td>7380.0</td>\n",
       "      <td>0.0300</td>\n",
       "      <td>0.492000</td>\n",
       "      <td>1.059200</td>\n",
       "      <td>0.231769</td>\n",
       "    </tr>\n",
       "    <tr>\n",
       "      <th>7</th>\n",
       "      <td>501.0</td>\n",
       "      <td>15000.0</td>\n",
       "      <td>1.779333</td>\n",
       "      <td>16008.0</td>\n",
       "      <td>7398.0</td>\n",
       "      <td>0.0320</td>\n",
       "      <td>0.493200</td>\n",
       "      <td>1.067200</td>\n",
       "      <td>0.217027</td>\n",
       "    </tr>\n",
       "    <tr>\n",
       "      <th>29</th>\n",
       "      <td>501.0</td>\n",
       "      <td>25001.0</td>\n",
       "      <td>2.284389</td>\n",
       "      <td>28594.0</td>\n",
       "      <td>13204.0</td>\n",
       "      <td>0.0400</td>\n",
       "      <td>0.528139</td>\n",
       "      <td>1.143714</td>\n",
       "      <td>0.187781</td>\n",
       "    </tr>\n",
       "    <tr>\n",
       "      <th>48</th>\n",
       "      <td>501.0</td>\n",
       "      <td>15000.0</td>\n",
       "      <td>1.889067</td>\n",
       "      <td>16136.0</td>\n",
       "      <td>7480.0</td>\n",
       "      <td>0.0400</td>\n",
       "      <td>0.498667</td>\n",
       "      <td>1.075733</td>\n",
       "      <td>0.208845</td>\n",
       "    </tr>\n",
       "    <tr>\n",
       "      <th>49</th>\n",
       "      <td>501.0</td>\n",
       "      <td>10000.0</td>\n",
       "      <td>1.836000</td>\n",
       "      <td>11454.0</td>\n",
       "      <td>5284.0</td>\n",
       "      <td>0.0400</td>\n",
       "      <td>0.528400</td>\n",
       "      <td>1.145400</td>\n",
       "      <td>0.223482</td>\n",
       "    </tr>\n",
       "    <tr>\n",
       "      <th>41</th>\n",
       "      <td>501.0</td>\n",
       "      <td>25001.0</td>\n",
       "      <td>2.525619</td>\n",
       "      <td>29104.0</td>\n",
       "      <td>13428.0</td>\n",
       "      <td>0.0500</td>\n",
       "      <td>0.537099</td>\n",
       "      <td>1.164113</td>\n",
       "      <td>0.175367</td>\n",
       "    </tr>\n",
       "    <tr>\n",
       "      <th>50</th>\n",
       "      <td>501.0</td>\n",
       "      <td>10000.0</td>\n",
       "      <td>1.821600</td>\n",
       "      <td>12270.0</td>\n",
       "      <td>5628.0</td>\n",
       "      <td>0.0500</td>\n",
       "      <td>0.562800</td>\n",
       "      <td>1.227000</td>\n",
       "      <td>0.236034</td>\n",
       "    </tr>\n",
       "    <tr>\n",
       "      <th>62</th>\n",
       "      <td>501.0</td>\n",
       "      <td>15000.0</td>\n",
       "      <td>2.090000</td>\n",
       "      <td>17624.0</td>\n",
       "      <td>8170.0</td>\n",
       "      <td>0.0500</td>\n",
       "      <td>0.544667</td>\n",
       "      <td>1.174933</td>\n",
       "      <td>0.206731</td>\n",
       "    </tr>\n",
       "    <tr>\n",
       "      <th>2</th>\n",
       "      <td>501.0</td>\n",
       "      <td>20000.0</td>\n",
       "      <td>2.058650</td>\n",
       "      <td>24202.0</td>\n",
       "      <td>11130.0</td>\n",
       "      <td>0.0500</td>\n",
       "      <td>0.556500</td>\n",
       "      <td>1.210100</td>\n",
       "      <td>0.212799</td>\n",
       "    </tr>\n",
       "  </tbody>\n",
       "</table>\n",
       "</div>"
      ],
      "text/plain": [
       "    Array_length   Points  bound_density  neighborhood_density  surface_area  \\\n",
       "18         501.0  10000.0       1.600200                9198.0        4320.0   \n",
       "58         501.0  10000.0       1.575000                9290.0        4366.0   \n",
       "34         501.0  15000.0       1.643200               13896.0        6528.0   \n",
       "57         501.0  10000.0       1.512500                9004.0        4238.0   \n",
       "17         501.0  15000.0       1.706400               13506.0        6374.0   \n",
       "21         501.0  10000.0       1.532700                9442.0        4436.0   \n",
       "66         501.0  15000.0       1.650933               13854.0        6494.0   \n",
       "64         501.0  10000.0       1.727200                8982.0        4202.0   \n",
       "23         501.0  10000.0       1.689100                9260.0        4356.0   \n",
       "36         501.0  15000.0       1.632800               13686.0        6458.0   \n",
       "13         501.0  15000.0       1.704267               13752.0        6498.0   \n",
       "45         501.0  10000.0       1.676400                9154.0        4306.0   \n",
       "0          501.0  20000.0       1.619950               19038.0        8964.0   \n",
       "53         501.0  25001.0       1.656334               23308.0       10978.0   \n",
       "39         501.0  10000.0       1.651200                9630.0        4492.0   \n",
       "67         501.0  15000.0       1.722667               14050.0        6588.0   \n",
       "40         501.0  15000.0       1.664000               14576.0        6846.0   \n",
       "10         501.0  25001.0       1.646814               24324.0       11414.0   \n",
       "30         501.0  10000.0       1.675800               10142.0        4716.0   \n",
       "9          501.0  10000.0       1.818900               10968.0        5102.0   \n",
       "61         501.0  15000.0       1.630800               15888.0        7380.0   \n",
       "7          501.0  15000.0       1.779333               16008.0        7398.0   \n",
       "29         501.0  25001.0       2.284389               28594.0       13204.0   \n",
       "48         501.0  15000.0       1.889067               16136.0        7480.0   \n",
       "49         501.0  10000.0       1.836000               11454.0        5284.0   \n",
       "41         501.0  25001.0       2.525619               29104.0       13428.0   \n",
       "50         501.0  10000.0       1.821600               12270.0        5628.0   \n",
       "62         501.0  15000.0       2.090000               17624.0        8170.0   \n",
       "2          501.0  20000.0       2.058650               24202.0       11130.0   \n",
       "\n",
       "    stickiness       S/N      ND/N     ratio  \n",
       "18      0.0030  0.432000  0.919800  0.212578  \n",
       "58      0.0050  0.436600  0.929000  0.217041  \n",
       "34      0.0050  0.435200  0.926400  0.209392  \n",
       "57      0.0060  0.423800  0.900400  0.218871  \n",
       "17      0.0060  0.424933  0.900400  0.199374  \n",
       "21      0.0070  0.443600  0.944200  0.224460  \n",
       "66      0.0070  0.432933  0.923600  0.207755  \n",
       "64      0.0074  0.420200  0.898200  0.195678  \n",
       "23      0.0080  0.435600  0.926000  0.205017  \n",
       "36      0.0080  0.430533  0.912400  0.208659  \n",
       "13      0.0090  0.433200  0.916800  0.202670  \n",
       "45      0.0090  0.430600  0.915400  0.204366  \n",
       "0       0.0100  0.448200  0.951900  0.216715  \n",
       "53      0.0100  0.439102  0.932283  0.209552  \n",
       "39      0.0100  0.449200  0.963000  0.213864  \n",
       "67      0.0100  0.439200  0.936667  0.203158  \n",
       "40      0.0200  0.456400  0.971733  0.215242  \n",
       "10      0.0200  0.456542  0.972921  0.217054  \n",
       "30      0.0200  0.471600  1.014200  0.219614  \n",
       "9       0.0300  0.510200  1.096800  0.219055  \n",
       "61      0.0300  0.492000  1.059200  0.231769  \n",
       "7       0.0320  0.493200  1.067200  0.217027  \n",
       "29      0.0400  0.528139  1.143714  0.187781  \n",
       "48      0.0400  0.498667  1.075733  0.208845  \n",
       "49      0.0400  0.528400  1.145400  0.223482  \n",
       "41      0.0500  0.537099  1.164113  0.175367  \n",
       "50      0.0500  0.562800  1.227000  0.236034  \n",
       "62      0.0500  0.544667  1.174933  0.206731  \n",
       "2       0.0500  0.556500  1.210100  0.212799  "
      ]
     },
     "execution_count": 30,
     "metadata": {},
     "output_type": "execute_result"
    }
   ],
   "source": [
    "dff1.sort_values(['stickiness'])"
   ]
  },
  {
   "cell_type": "code",
   "execution_count": 31,
   "metadata": {},
   "outputs": [
    {
     "data": {
      "text/plain": [
       "0.9643645045181699"
      ]
     },
     "execution_count": 31,
     "metadata": {},
     "output_type": "execute_result"
    }
   ],
   "source": [
    "# linear fit for the data\n",
    "x = np.array(dff1[['bound_density','S/N']])\n",
    "y=np.array(dff1['stickiness'])\n",
    "\n",
    "reg = linear_model.LinearRegression().fit(x, y)\n",
    "reg.score(x,y)"
   ]
  },
  {
   "cell_type": "code",
   "execution_count": 32,
   "metadata": {},
   "outputs": [
    {
     "name": "stdout",
     "output_type": "stream",
     "text": [
      "MSE for Polynomial Fit using Surface Area: \n",
      "2.6727128379406274e-05\n",
      "MSE for Reg model Fit using bounding density, Surface Area: \n",
      "1.895379179730398e-05\n"
     ]
    }
   ],
   "source": [
    "df_test = dff_test.loc[dff_test['stickiness']<=0.05,:]\n",
    "df_test['S/N']=df_test['surface_area']/df_test['Points']\n",
    "df_test['ND/N']=df_test['neighborhood_density']/df_test['Points']\n",
    "x_test_sa=np.array(df_test['S/N'])\n",
    "x_test_nd=np.array(df_test['ND/N'])\n",
    "y=np.array(df_test['stickiness'])\n",
    "k_sa = list(map(lambda i: pred1_obj_sa(i), list(x_test_sa)))\n",
    "print(\"MSE for Polynomial Fit using Surface Area: \")\n",
    "print(np.square(y-np.array(k_sa)).sum()/len(df_test))\n",
    "k_reg = reg.predict(df_test[['bound_density','S/N']])\n",
    "print(\"MSE for Reg model Fit using bounding density, Surface Area: \")\n",
    "print(np.square(y-np.array(k_reg)).sum()/len(df_test))"
   ]
  },
  {
   "cell_type": "code",
   "execution_count": 33,
   "metadata": {},
   "outputs": [
    {
     "data": {
      "text/html": [
       "<div>\n",
       "<style scoped>\n",
       "    .dataframe tbody tr th:only-of-type {\n",
       "        vertical-align: middle;\n",
       "    }\n",
       "\n",
       "    .dataframe tbody tr th {\n",
       "        vertical-align: top;\n",
       "    }\n",
       "\n",
       "    .dataframe thead th {\n",
       "        text-align: right;\n",
       "    }\n",
       "</style>\n",
       "<table border=\"1\" class=\"dataframe\">\n",
       "  <thead>\n",
       "    <tr style=\"text-align: right;\">\n",
       "      <th></th>\n",
       "      <th>Array_length</th>\n",
       "      <th>Points</th>\n",
       "      <th>bound_density</th>\n",
       "      <th>neighborhood_density</th>\n",
       "      <th>surface_area</th>\n",
       "      <th>stickiness</th>\n",
       "      <th>S/N</th>\n",
       "      <th>ND/N</th>\n",
       "    </tr>\n",
       "  </thead>\n",
       "  <tbody>\n",
       "    <tr>\n",
       "      <th>4</th>\n",
       "      <td>501.0</td>\n",
       "      <td>9239.0</td>\n",
       "      <td>1.650179</td>\n",
       "      <td>10102.0</td>\n",
       "      <td>4726.0</td>\n",
       "      <td>0.0296</td>\n",
       "      <td>0.511527</td>\n",
       "      <td>1.093408</td>\n",
       "    </tr>\n",
       "    <tr>\n",
       "      <th>5</th>\n",
       "      <td>501.0</td>\n",
       "      <td>15820.0</td>\n",
       "      <td>1.689760</td>\n",
       "      <td>14578.0</td>\n",
       "      <td>6868.0</td>\n",
       "      <td>0.0115</td>\n",
       "      <td>0.434134</td>\n",
       "      <td>0.921492</td>\n",
       "    </tr>\n",
       "    <tr>\n",
       "      <th>7</th>\n",
       "      <td>501.0</td>\n",
       "      <td>13348.0</td>\n",
       "      <td>1.618595</td>\n",
       "      <td>12626.0</td>\n",
       "      <td>5902.0</td>\n",
       "      <td>0.0183</td>\n",
       "      <td>0.442164</td>\n",
       "      <td>0.945909</td>\n",
       "    </tr>\n",
       "    <tr>\n",
       "      <th>8</th>\n",
       "      <td>501.0</td>\n",
       "      <td>15660.0</td>\n",
       "      <td>1.716475</td>\n",
       "      <td>16778.0</td>\n",
       "      <td>7826.0</td>\n",
       "      <td>0.0292</td>\n",
       "      <td>0.499745</td>\n",
       "      <td>1.071392</td>\n",
       "    </tr>\n",
       "    <tr>\n",
       "      <th>9</th>\n",
       "      <td>501.0</td>\n",
       "      <td>18057.0</td>\n",
       "      <td>2.270255</td>\n",
       "      <td>21422.0</td>\n",
       "      <td>9894.0</td>\n",
       "      <td>0.0451</td>\n",
       "      <td>0.547932</td>\n",
       "      <td>1.186354</td>\n",
       "    </tr>\n",
       "    <tr>\n",
       "      <th>10</th>\n",
       "      <td>501.0</td>\n",
       "      <td>5700.0</td>\n",
       "      <td>1.805263</td>\n",
       "      <td>6786.0</td>\n",
       "      <td>3144.0</td>\n",
       "      <td>0.0442</td>\n",
       "      <td>0.551579</td>\n",
       "      <td>1.190526</td>\n",
       "    </tr>\n",
       "    <tr>\n",
       "      <th>14</th>\n",
       "      <td>501.0</td>\n",
       "      <td>11399.0</td>\n",
       "      <td>1.622248</td>\n",
       "      <td>10490.0</td>\n",
       "      <td>4936.0</td>\n",
       "      <td>0.0098</td>\n",
       "      <td>0.433020</td>\n",
       "      <td>0.920256</td>\n",
       "    </tr>\n",
       "    <tr>\n",
       "      <th>15</th>\n",
       "      <td>501.0</td>\n",
       "      <td>8345.0</td>\n",
       "      <td>1.681965</td>\n",
       "      <td>7740.0</td>\n",
       "      <td>3634.0</td>\n",
       "      <td>0.0045</td>\n",
       "      <td>0.435470</td>\n",
       "      <td>0.927501</td>\n",
       "    </tr>\n",
       "  </tbody>\n",
       "</table>\n",
       "</div>"
      ],
      "text/plain": [
       "    Array_length   Points  bound_density  neighborhood_density  surface_area  \\\n",
       "4          501.0   9239.0       1.650179               10102.0        4726.0   \n",
       "5          501.0  15820.0       1.689760               14578.0        6868.0   \n",
       "7          501.0  13348.0       1.618595               12626.0        5902.0   \n",
       "8          501.0  15660.0       1.716475               16778.0        7826.0   \n",
       "9          501.0  18057.0       2.270255               21422.0        9894.0   \n",
       "10         501.0   5700.0       1.805263                6786.0        3144.0   \n",
       "14         501.0  11399.0       1.622248               10490.0        4936.0   \n",
       "15         501.0   8345.0       1.681965                7740.0        3634.0   \n",
       "\n",
       "    stickiness       S/N      ND/N  \n",
       "4       0.0296  0.511527  1.093408  \n",
       "5       0.0115  0.434134  0.921492  \n",
       "7       0.0183  0.442164  0.945909  \n",
       "8       0.0292  0.499745  1.071392  \n",
       "9       0.0451  0.547932  1.186354  \n",
       "10      0.0442  0.551579  1.190526  \n",
       "14      0.0098  0.433020  0.920256  \n",
       "15      0.0045  0.435470  0.927501  "
      ]
     },
     "execution_count": 33,
     "metadata": {},
     "output_type": "execute_result"
    }
   ],
   "source": [
    "df_test"
   ]
  },
  {
   "cell_type": "code",
   "execution_count": null,
   "metadata": {},
   "outputs": [],
   "source": []
  },
  {
   "cell_type": "code",
   "execution_count": null,
   "metadata": {},
   "outputs": [],
   "source": []
  }
 ],
 "metadata": {
  "kernelspec": {
   "display_name": "Python 3",
   "language": "python",
   "name": "python3"
  },
  "language_info": {
   "codemirror_mode": {
    "name": "ipython",
    "version": 3
   },
   "file_extension": ".py",
   "mimetype": "text/x-python",
   "name": "python",
   "nbconvert_exporter": "python",
   "pygments_lexer": "ipython3",
   "version": "3.5.2"
  }
 },
 "nbformat": 4,
 "nbformat_minor": 2
}
